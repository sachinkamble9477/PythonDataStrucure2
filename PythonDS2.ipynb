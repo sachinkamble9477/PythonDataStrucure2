{
  "nbformat": 4,
  "nbformat_minor": 0,
  "metadata": {
    "colab": {
      "name": "PythonDS2.ipynb",
      "provenance": [],
      "collapsed_sections": []
    },
    "kernelspec": {
      "name": "python3",
      "display_name": "Python 3"
    },
    "language_info": {
      "name": "python"
    }
  },
  "cells": [
    {
      "cell_type": "markdown",
      "metadata": {
        "id": "AFT_500RprPD"
      },
      "source": [
        "Tuples introduction"
      ]
    },
    {
      "cell_type": "code",
      "metadata": {
        "colab": {
          "base_uri": "https://localhost:8080/"
        },
        "id": "EM7VTkBdp7QP",
        "outputId": "95d66cba-1f86-460f-f2e9-fa06732096df"
      },
      "source": [
        "#Tuple '()' is orederd type dataset but NOT MUTAABLE(not changeble) using indexing for accessing data \n",
        "x= ('glen','sally','joseph')\n",
        "print(x)\n",
        "y=(1,2,3,9,8,17)\n",
        "#y[2]=15  tuplle is immutable !!! like string\n",
        "print(y)\n",
        "print(y[4])\n",
        "print(max(y))\n",
        "print(min(y))\n",
        "\n",
        "#if you want to iterate whole tuples using for loop\n",
        "for iter in x:\n",
        "  print(iter)\n",
        " \n",
        "#tuple and its assignment => tuple can put on left hand side of statement\n",
        "#parenthesis can also be omitted\n",
        " \n",
        "(x,y)=(4,'jan')\n",
        "print(y)"
      ],
      "execution_count": null,
      "outputs": [
        {
          "output_type": "stream",
          "text": [
            "('glen', 'sally', 'joseph')\n",
            "(1, 2, 3, 9, 8, 17)\n",
            "8\n",
            "17\n",
            "1\n",
            "glen\n",
            "sally\n",
            "joseph\n",
            "jan\n"
          ],
          "name": "stdout"
        }
      ]
    },
    {
      "cell_type": "markdown",
      "metadata": {
        "id": "Bjpnlgxp1578"
      },
      "source": [
        "Tuples and Dictionaris"
      ]
    },
    {
      "cell_type": "code",
      "metadata": {
        "colab": {
          "base_uri": "https://localhost:8080/"
        },
        "id": "l8v-WjuV2Gpw",
        "outputId": "aa0eafbc-9588-486a-8814-1b9e25635059"
      },
      "source": [
        "#The item() method in dictionaries return list of (key ,value) is => tuple.\n",
        "\n",
        "d=dict()\n",
        "d['csev']=2\n",
        "d['cwen']=4\n",
        "for (k,v) in d.items():\n",
        "  print(k,v)\n",
        "\n",
        "#it will print in tuple\n",
        "tups=d.items()\n",
        "print(tups)\n",
        "\n",
        "# Tuple are comparable\n",
        "#compare all the element and return the value TRUE/ FALSE\n",
        "print((0,1,2) < (5,1,2))\n",
        "  "
      ],
      "execution_count": null,
      "outputs": [
        {
          "output_type": "stream",
          "text": [
            "csev 2\n",
            "cwen 4\n",
            "dict_items([('csev', 2), ('cwen', 4)])\n",
            "True\n"
          ],
          "name": "stdout"
        }
      ]
    },
    {
      "cell_type": "markdown",
      "metadata": {
        "id": "X6bByFGr6EFa"
      },
      "source": [
        "Sorting of Tuple\n"
      ]
    },
    {
      "cell_type": "code",
      "metadata": {
        "colab": {
          "base_uri": "https://localhost:8080/"
        },
        "id": "BYMcX1dK6Jl4",
        "outputId": "788d919c-7799-4382-8c70-31fb36a0ba7b"
      },
      "source": [
        "# First we sort the dictionary by the using the items() method and sorted() function\n",
        "\n",
        "d={'a':10,'b':20,'c':30}\n",
        "print(d.items())         #1st d.items()\n",
        "print(sorted(d.items())) #sorted method , actualy sorting is done keywise\n",
        "\n",
        "# we can directly use sorted function\n",
        "t=sorted(d.items())\n",
        "print(t)\n",
        "\n",
        "#to print all the values using for loop\n",
        "for k,v in sorted(d.items()):\n",
        "  print(k,v)\n",
        "\n"
      ],
      "execution_count": null,
      "outputs": [
        {
          "output_type": "stream",
          "text": [
            "dict_items([('a', 10), ('b', 20), ('c', 30)])\n",
            "[('a', 10), ('b', 20), ('c', 30)]\n",
            "[('a', 10), ('b', 20), ('c', 30)]\n",
            "a 10\n",
            "b 20\n",
            "c 30\n"
          ],
          "name": "stdout"
        }
      ]
    },
    {
      "cell_type": "markdown",
      "metadata": {
        "id": "4HQ0RCdk-RJ4"
      },
      "source": [
        "Sort by Values not Keys\n"
      ]
    },
    {
      "cell_type": "code",
      "metadata": {
        "colab": {
          "base_uri": "https://localhost:8080/"
        },
        "id": "k_q8c8K8-XE3",
        "outputId": "b9a3137c-46fe-4c64-8be7-a8ab65f64483"
      },
      "source": [
        "# if we construct a list of tuple in the form(value ,key) then for loop\n",
        "c={'a':10,'b':20,'c':30}\n",
        "tmp=list()\n",
        "for k,v in c.items():\n",
        "  tmp.append((v,k)) #this convert in reverse order\n",
        "print(tmp) \n",
        "tmp=sorted(tmp,reverse=True)\n",
        "print(tmp)\n",
        "\n",
        "#the shorter version\n",
        "print(sorted([(v,k) for k,v in c.items()]))"
      ],
      "execution_count": null,
      "outputs": [
        {
          "output_type": "stream",
          "text": [
            "[(10, 'a'), (20, 'b'), (30, 'c')]\n",
            "[(30, 'c'), (20, 'b'), (10, 'a')]\n",
            "[(10, 'a'), (20, 'b'), (30, 'c')]\n"
          ],
          "name": "stdout"
        }
      ]
    },
    {
      "cell_type": "markdown",
      "metadata": {
        "id": "LKwN7e4-ZvMl"
      },
      "source": [
        "Sets Operations\n"
      ]
    },
    {
      "cell_type": "code",
      "metadata": {
        "colab": {
          "base_uri": "https://localhost:8080/"
        },
        "id": "QqM3Lm-UZ1uW",
        "outputId": "416100b1-f274-4d2a-deab-944b1ca34226"
      },
      "source": [
        "# Unordered colllection of data , iterable , mutable(changable) , No duplicates\n",
        "\n",
        "# way1 \n",
        "course={\"python\",\"machine learning\",\"data structure\"}\n",
        "print(course) \n",
        "\n",
        "#way 2 using set function\n",
        "course=set([1,5,9,6,8,9,5,(1,8,9),\"hello\"]) #duplicate not allowed\n",
        "print(course)\n",
        "\n",
        "# sets can not contain 'list' or 'dictionary' but we can form sets from list\n",
        "my_set=set([1,2,3])\n",
        "print(my_set)\n",
        "\n",
        "#set vs dict identification\n",
        "jet={}\n",
        "print(type(jet))\n",
        "\n",
        "typ=set()\n",
        "print(type(typ))"
      ],
      "execution_count": null,
      "outputs": [
        {
          "output_type": "stream",
          "text": [
            "{'machine learning', 'data structure', 'python'}\n",
            "{1, 5, 6, 8, 9, 'hello', (1, 8, 9)}\n",
            "{1, 2, 3}\n",
            "<class 'dict'>\n",
            "<class 'set'>\n"
          ],
          "name": "stdout"
        }
      ]
    },
    {
      "cell_type": "markdown",
      "metadata": {
        "id": "-eUUmyuAszcu"
      },
      "source": [
        "Set Other Operations"
      ]
    },
    {
      "cell_type": "code",
      "metadata": {
        "colab": {
          "base_uri": "https://localhost:8080/"
        },
        "id": "kCEVQ5R6s7G7",
        "outputId": "ccc02f4e-6053-444e-84b7-91dc8d4291bf"
      },
      "source": [
        "a={1,2,3,4,5,6}\n",
        "b={5,6,7,8,9,10}\n",
        "set3=a.union(b)  # UNION  add both\n",
        "print(set3)\n",
        "\n",
        "print(a|b)                 # UNION same ansewr for b|a\n",
        "\n",
        "print(a&b)                 # INTERSECTION  COMMON in both\n",
        "\n",
        "print(a-b)                 # DIFFERENCE ONLY IN A\n",
        "print(b-a)                 # ONLY IN B\n",
        "\n",
        "print(a^b)\n",
        "print(b^a)                 # SYMMETRIC DIFFERENCE  common element deleted"
      ],
      "execution_count": null,
      "outputs": [
        {
          "output_type": "stream",
          "text": [
            "{1, 2, 3, 4, 5, 6, 7, 8, 9, 10}\n",
            "{1, 2, 3, 4, 5, 6, 7, 8, 9, 10}\n",
            "{5, 6}\n",
            "{1, 2, 3, 4}\n",
            "{8, 9, 10, 7}\n",
            "{1, 2, 3, 4, 7, 8, 9, 10}\n",
            "{1, 2, 3, 4, 7, 8, 9, 10}\n"
          ],
          "name": "stdout"
        }
      ]
    },
    {
      "cell_type": "markdown",
      "metadata": {
        "id": "B0r4SOO0xgh1"
      },
      "source": [
        "Sets Function"
      ]
    },
    {
      "cell_type": "code",
      "metadata": {
        "colab": {
          "base_uri": "https://localhost:8080/"
        },
        "id": "MbI3hx0_xl4V",
        "outputId": "a7b3b550-f3dd-46a2-fd1f-8689e87a34d3"
      },
      "source": [
        "# Set membership test\n",
        "a={1,2,3,4,5,6,7,15,25}\n",
        "print(1 in a)           #true\n",
        "print(12 in a)          #false\n",
        "print(12 not in a)      #true\n",
        "\n",
        "# sets iteration i.e loop through sets\n",
        "for s in a:\n",
        "  print(s)\n",
        "\n",
        "print(len(a)) # 9 \n",
        "\n",
        "# PYTHON FROZENSET => Same as set but element once assigned will not change\n",
        "#tuple=> Immutable\n",
        "#frozen set => immutable\n",
        "free= frozenset([1,2,5,78,6,22])\n",
        "#free.add(6)  this will show error as frozen set are immutable"
      ],
      "execution_count": null,
      "outputs": [
        {
          "output_type": "stream",
          "text": [
            "True\n",
            "False\n",
            "True\n",
            "1\n",
            "2\n",
            "3\n",
            "4\n",
            "5\n",
            "6\n",
            "7\n",
            "15\n",
            "25\n",
            "9\n"
          ],
          "name": "stdout"
        }
      ]
    }
  ]
}